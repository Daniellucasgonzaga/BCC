{
  "nbformat": 4,
  "nbformat_minor": 0,
  "metadata": {
    "colab": {
      "provenance": [],
      "authorship_tag": "ABX9TyP0C1umVhj/s5XH0XWQCJnH",
      "include_colab_link": true
    },
    "kernelspec": {
      "name": "python3",
      "display_name": "Python 3"
    },
    "language_info": {
      "name": "python"
    }
  },
  "cells": [
    {
      "cell_type": "markdown",
      "metadata": {
        "id": "view-in-github",
        "colab_type": "text"
      },
      "source": [
        "<a href=\"https://colab.research.google.com/github/Daniellucasgonzaga/BCC19-DanielGonzaga/blob/main/Tarefa15DanielGonzaga.ipynb\" target=\"_parent\"><img src=\"https://colab.research.google.com/assets/colab-badge.svg\" alt=\"Open In Colab\"/></a>"
      ]
    },
    {
      "cell_type": "markdown",
      "source": [
        "Daniel Lucas de Oliveira Gonzaga"
      ],
      "metadata": {
        "id": "4vI90pi8M9b8"
      }
    },
    {
      "cell_type": "markdown",
      "source": [
        "**1)** Faça uma função que receba um número **a**, um número **b** e um número **x**. Esta função deve retornar **True** se **x** estiver entre **a** e **b** e **False** caso contrário. Além disso a função deve mostrar uma mensagem dizendo se **x** está no intervalo entre **a** e **b** ou não.\n",
        "\n",
        "Teste para \n",
        "- a) a = -2.5, b = 6.3 e x = 9.1; \n",
        "- b) a = -10, b = 7 e x = 2.2\n",
        "- c) a = 67.2, b = 87.2 e x = 8.1\n",
        "\n",
        "Sugestão: \n",
        "\n",
        "a função pode ter a seguinte estrutura:\n",
        "```python\n",
        "def estaNoIntervalo(a, b, x):\n",
        "    ...\n",
        "    return resposta"
      ],
      "metadata": {
        "id": "DmFlZ_FyJmL3"
      }
    },
    {
      "cell_type": "code",
      "execution_count": 18,
      "metadata": {
        "colab": {
          "base_uri": "https://localhost:8080/"
        },
        "id": "-xbl9Au-JgjJ",
        "outputId": "9bb2702f-c0fc-4541-820a-4c3e7c51e0a9"
      },
      "outputs": [
        {
          "output_type": "stream",
          "name": "stdout",
          "text": [
            "X não está no intervalo a - b\n",
            "true\n",
            "X não está no intervalo a - b\n"
          ]
        }
      ],
      "source": [
        "import numpy as np\n",
        "\n",
        "def funcao(x, a, b):\n",
        "  if a <= x < b:\n",
        "    print(\"true\")\n",
        "  else:\n",
        "    if a <= x <= b:\n",
        "      print(\"X está no intervalo a - b\")\n",
        "    else:\n",
        "      print(\"X não está no intervalo a - b\")\n",
        "\n",
        "a1 = -2.5\n",
        "b1 = 6.3\n",
        "x1 = 9.1\n",
        "funcao(x1, a1, b1)\n",
        "\n",
        "a2 = -10\n",
        "b2 = 7\n",
        "x2 = 2.2\n",
        "funcao(x2, a2, b2)\n",
        "\n",
        "a3 = 67.2\n",
        "b3 = 87.2\n",
        "x3 = 8.1\n",
        "funcao(x3, a3, b3)"
      ]
    }
  ]
}