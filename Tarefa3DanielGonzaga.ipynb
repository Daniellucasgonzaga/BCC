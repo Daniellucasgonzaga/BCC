{
  "nbformat": 4,
  "nbformat_minor": 0,
  "metadata": {
    "colab": {
      "provenance": [],
      "collapsed_sections": [],
      "authorship_tag": "ABX9TyOJhJwOllwGFB+WMfiD+Jxk",
      "include_colab_link": true
    },
    "kernelspec": {
      "name": "python3",
      "display_name": "Python 3"
    },
    "language_info": {
      "name": "python"
    }
  },
  "cells": [
    {
      "cell_type": "markdown",
      "metadata": {
        "id": "view-in-github",
        "colab_type": "text"
      },
      "source": [
        "<a href=\"https://colab.research.google.com/github/Daniellucasgonzaga/BCC/blob/main/Tarefa3DanielGonzaga.ipynb\" target=\"_parent\"><img src=\"https://colab.research.google.com/assets/colab-badge.svg\" alt=\"Open In Colab\"/></a>"
      ]
    },
    {
      "cell_type": "code",
      "execution_count": null,
      "metadata": {
        "id": "F0fozjQPJFvM"
      },
      "outputs": [],
      "source": [
        "#Aluno: Daniel Lucas de Oliveira gonzaga\n",
        "\n",
        "h = int (input(\"Digite o número de horas: \"))  #atribui a variavel h o numero inteiro digitado na entrada de dados \n",
        "seg = h*60                                     #multiplica o número da entrada de dados, que está em horas, por 60. Transformando em segundos\n",
        "print(f'o tempo em segundos é de {seg:.2f}')  #exibe na tela a conversão do valor digitados em horas para segundos, com 2 casas decimais"
      ]
    },
    {
      "cell_type": "code",
      "source": [],
      "metadata": {
        "id": "nIoLHQ0WUH1k"
      },
      "execution_count": null,
      "outputs": []
    }
  ]
}