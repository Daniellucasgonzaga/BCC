{
  "nbformat": 4,
  "nbformat_minor": 0,
  "metadata": {
    "colab": {
      "provenance": [],
      "authorship_tag": "ABX9TyP9H7F9UhnuiU+NNexvcaXu",
      "include_colab_link": true
    },
    "kernelspec": {
      "name": "python3",
      "display_name": "Python 3"
    },
    "language_info": {
      "name": "python"
    }
  },
  "cells": [
    {
      "cell_type": "markdown",
      "metadata": {
        "id": "view-in-github",
        "colab_type": "text"
      },
      "source": [
        "<a href=\"https://colab.research.google.com/github/Daniellucasgonzaga/BCC19-DanielGonzaga/blob/main/Roteiro.ipynb\" target=\"_parent\"><img src=\"https://colab.research.google.com/assets/colab-badge.svg\" alt=\"Open In Colab\"/></a>"
      ]
    },
    {
      "cell_type": "markdown",
      "source": [
        "ROTEIRO TRABALHO BCC\n",
        "\n",
        "1.\tApresentar a necessidade:\n",
        "\n",
        "o\tPlotagem de gráficos relacionado a banco de dados de análises energéticas;\n",
        "\n",
        "*   Gráficos com dados atuais;\n",
        "*   Gráficos baseados em fontes confiáveis;\n",
        "*   Disciplina baseada em análise de dados de gráficos;\n",
        "*   Gráficos de consumo, demanda energética ...\n",
        "\n",
        "2.\tApresentar a biblioteca\n",
        "\n",
        "*   Explicar utilidade para exibição do data frame e plotagem dos gráficos;\n",
        "*   Apresentar gráficos que analisamos em sala de aula;\n",
        "*   Apresentar um gráfico, relacionado a energia, tirado de um banco de dados de alguma empresa de energia;\n",
        "*   Enfatizar o quão interativa e atualizada as aulas podem ficar;\n",
        "\n",
        "3.\tVantagens de se utilizar essa biblioteca na aula\n",
        "\n",
        "*   Acesso rápido à análise gráfica dos dados;\n",
        "*   Dados podem ser fornecidos sem o recurso gráfico;\n",
        "*   Podemos gerar o gráfico no mesmo dia em que a empresa publicou o banco de dados;\n",
        "*   Maior fidelidade aos fatos, uma vez que você seleciona e analisa a confiabilidade da fonte dos dados.\n"
      ],
      "metadata": {
        "id": "VgrW6VK-Or5t"
      }
    }
  ]
}