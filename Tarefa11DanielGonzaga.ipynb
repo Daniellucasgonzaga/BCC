{
  "nbformat": 4,
  "nbformat_minor": 0,
  "metadata": {
    "colab": {
      "provenance": [],
      "authorship_tag": "ABX9TyO18VguMrQJ4NNqvupXZUjM",
      "include_colab_link": true
    },
    "kernelspec": {
      "name": "python3",
      "display_name": "Python 3"
    },
    "language_info": {
      "name": "python"
    }
  },
  "cells": [
    {
      "cell_type": "markdown",
      "metadata": {
        "id": "view-in-github",
        "colab_type": "text"
      },
      "source": [
        "<a href=\"https://colab.research.google.com/github/Daniellucasgonzaga/BCC19-DanielGonzaga/blob/main/Tarefa11DanielGonzaga.ipynb\" target=\"_parent\"><img src=\"https://colab.research.google.com/assets/colab-badge.svg\" alt=\"Open In Colab\"/></a>"
      ]
    },
    {
      "cell_type": "markdown",
      "source": [
        "Daniel Lucas de Oliveira Gonzaga"
      ],
      "metadata": {
        "id": "YUg_6zMQD3m-"
      }
    },
    {
      "cell_type": "markdown",
      "source": [
        "\n",
        "- **1)** Faça a aproximação de $\\pi$ usando a fórmula de Leibniz:\n",
        "\n",
        "$$\\pi \\approx 4 - \\frac{4}{3} + \\frac{4}{5} - \\frac{4}{7} + \\frac{4}{9}+...$$\n",
        "\n",
        "Calcule (e mostre na tela) a aproximação de $\\pi$ considerando a) 50 termos, b) 500 termos, c) 1000 termos e d) 10000 termos. \n",
        "\n",
        "Dica: Note que o sinal do termo muda a cada termo. Talvez verificar se o $i$ é par ou ímpar ajude a decidir se para aquele i o sinal é mais ou menos.\n"
      ],
      "metadata": {
        "id": "S18GWW0fEIFk"
      }
    },
    {
      "cell_type": "code",
      "execution_count": 28,
      "metadata": {
        "colab": {
          "base_uri": "https://localhost:8080/"
        },
        "id": "utKbFj6qD0ON",
        "outputId": "4fca7543-c255-417d-93b6-2c4b25b94ce6"
      },
      "outputs": [
        {
          "output_type": "stream",
          "name": "stdout",
          "text": [
            "A aproximação de pi para 50 termos da formula de Leibniz é: 3.1611986129870506\n",
            "A aproximação de pi para 500 termos da formula de Leibniz é: 3.143588659585789\n",
            "A aproximação de pi para 1000 termos da formula de Leibniz é: 3.1425916543395442\n",
            "A aproximação de pi para 10000 termos da formula de Leibniz é: 3.1416926435905346\n"
          ]
        }
      ],
      "source": [
        "from posixpath import join\n",
        "import numpy as np\n",
        "\n",
        "# para 50 termos\n",
        "i = np.arange(0, 51, 1)\n",
        "im = np.array(2*i+1)\n",
        "sinal = -(-1)**((im+1)/2)\n",
        "j = sinal * im\n",
        "s = 4 / j\n",
        "soma = sum(s)\n",
        "print(f'A aproximação de pi para 50 termos da formula de Leibniz é: {soma}')\n",
        "\n",
        "# para 500 termos\n",
        "i1 = np.arange(0, 501, 1)\n",
        "im1 = np.array(2*i1+1)\n",
        "sinal1 = -(-1)**((im1+1)/2)\n",
        "j1 = sinal1 * im1\n",
        "s1 = 4 / j1\n",
        "soma1 = sum(s1)\n",
        "print(f'A aproximação de pi para 500 termos da formula de Leibniz é: {soma1}')\n",
        "\n",
        "# para 1000 termos\n",
        "i2 = np.arange(0, 1001, 1)\n",
        "im2 = np.array(2*i2+1)\n",
        "sinal2 = -(-1)**((im2+1)/2)\n",
        "j2 = sinal2 * im2\n",
        "s2 = 4 / j2\n",
        "soma2 = sum(s2)\n",
        "print(f'A aproximação de pi para 1000 termos da formula de Leibniz é: {soma2}')\n",
        "\n",
        "# para 10000 termos\n",
        "i3 = np.arange(0, 10001, 1)\n",
        "im3 = np.array(2*i3+1)\n",
        "sinal3 = -(-1)**((im3+1)/2)\n",
        "j3 = sinal3 * im3\n",
        "s3 = 4 / j3\n",
        "soma3 = sum(s3)\n",
        "print(f'A aproximação de pi para 10000 termos da formula de Leibniz é: {soma3}')\n",
        "\n"
      ]
    }
  ]
}