{
  "nbformat": 4,
  "nbformat_minor": 0,
  "metadata": {
    "colab": {
      "provenance": [],
      "authorship_tag": "ABX9TyPOGtEWzr5beV6HZFmtala5",
      "include_colab_link": true
    },
    "kernelspec": {
      "name": "python3",
      "display_name": "Python 3"
    },
    "language_info": {
      "name": "python"
    }
  },
  "cells": [
    {
      "cell_type": "markdown",
      "metadata": {
        "id": "view-in-github",
        "colab_type": "text"
      },
      "source": [
        "<a href=\"https://colab.research.google.com/github/Daniellucasgonzaga/BCC19-DanielGonzaga/blob/main/Tarefa7DanielGonzaga.ipynb\" target=\"_parent\"><img src=\"https://colab.research.google.com/assets/colab-badge.svg\" alt=\"Open In Colab\"/></a>"
      ]
    },
    {
      "cell_type": "markdown",
      "source": [
        "Daniel Lucas de Oliveira Gonzaga"
      ],
      "metadata": {
        "id": "UjjZ7LNOXedu"
      }
    },
    {
      "cell_type": "markdown",
      "source": [
        " 1) Faça um programa que mostre se o número inteiro guardado na variável x é par ou ímpar. Caso seja par, deve aparecer na tela: \"O número x é par\". Caso seja ímpar deve aparecer \"O número x é ímpar\".\n",
        " \n",
        "Teste para a) x = 1, b) x = 24, c) x = 10, d) x = 5."
      ],
      "metadata": {
        "id": "1G-ToDm9XRAy"
      }
    },
    {
      "cell_type": "code",
      "source": [
        "# Atribuindo valor as variáveis\n",
        "x1 = 1\n",
        "x2 = 24\n",
        "x3 = 10\n",
        "x4 = 5\n",
        "\n",
        "print(f'Com x = {x1}')\n",
        "\n",
        "if x1 % 2 == 0:\n",
        "   print('O número x é par')\n",
        "else:\n",
        "    print('O número x é ímpar')\n",
        "\n",
        "\n",
        "    "
      ],
      "metadata": {
        "colab": {
          "base_uri": "https://localhost:8080/"
        },
        "id": "QV0t7UJGXjkC",
        "outputId": "99c449bd-86ce-4d03-ff40-571f032ec69f"
      },
      "execution_count": 9,
      "outputs": [
        {
          "output_type": "stream",
          "name": "stdout",
          "text": [
            "Com x = 1\n",
            "O número x é ímpar\n"
          ]
        }
      ]
    },
    {
      "cell_type": "code",
      "source": [
        "print(f'Com x = {x2}')\n",
        "\n",
        "if x2 % 2 == 0:\n",
        "   print('O número x é par')\n",
        "else:\n",
        "    print('O número x é ímpar')"
      ],
      "metadata": {
        "colab": {
          "base_uri": "https://localhost:8080/"
        },
        "id": "b-UTznJsZw6l",
        "outputId": "54eaa6e0-9061-4794-e107-839c6c5cdcb7"
      },
      "execution_count": 10,
      "outputs": [
        {
          "output_type": "stream",
          "name": "stdout",
          "text": [
            "Com x = 24\n",
            "O número x é par\n"
          ]
        }
      ]
    },
    {
      "cell_type": "code",
      "source": [
        "print(f'Com x = {x3}')\n",
        "\n",
        "if x3 % 2 == 0:\n",
        "   print('O número x é par')\n",
        "else:\n",
        "    print('O número x é ímpar')"
      ],
      "metadata": {
        "colab": {
          "base_uri": "https://localhost:8080/"
        },
        "id": "WLWMZFGWZyqo",
        "outputId": "68c309e8-cfa8-4f5e-feb9-68de65cae52d"
      },
      "execution_count": 11,
      "outputs": [
        {
          "output_type": "stream",
          "name": "stdout",
          "text": [
            "Com x = 10\n",
            "O número x é par\n"
          ]
        }
      ]
    },
    {
      "cell_type": "code",
      "source": [
        "print(f'Com x = {x4}')\n",
        "\n",
        "if x4 % 2 == 0:\n",
        "   print('O número x é par')\n",
        "else:\n",
        "    print('O número x é ímpar')"
      ],
      "metadata": {
        "colab": {
          "base_uri": "https://localhost:8080/"
        },
        "id": "DZYyATB6ZzLA",
        "outputId": "bbbcf77c-f780-456a-e0fe-fc49945cbae0"
      },
      "execution_count": 12,
      "outputs": [
        {
          "output_type": "stream",
          "name": "stdout",
          "text": [
            "Com x = 5\n",
            "O número x é ímpar\n"
          ]
        }
      ]
    }
  ]
}