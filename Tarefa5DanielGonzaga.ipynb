{
  "nbformat": 4,
  "nbformat_minor": 0,
  "metadata": {
    "colab": {
      "provenance": [],
      "authorship_tag": "ABX9TyOrCTTrb+od4czXbvbItL8o",
      "include_colab_link": true
    },
    "kernelspec": {
      "name": "python3",
      "display_name": "Python 3"
    },
    "language_info": {
      "name": "python"
    }
  },
  "cells": [
    {
      "cell_type": "markdown",
      "metadata": {
        "id": "view-in-github",
        "colab_type": "text"
      },
      "source": [
        "<a href=\"https://colab.research.google.com/github/Daniellucasgonzaga/BCC19-DanielGonzaga/blob/main/Tarefa5DanielGonzaga.ipynb\" target=\"_parent\"><img src=\"https://colab.research.google.com/assets/colab-badge.svg\" alt=\"Open In Colab\"/></a>"
      ]
    },
    {
      "cell_type": "code",
      "execution_count": null,
      "metadata": {
        "id": "8S5A_YEetFoH"
      },
      "outputs": [],
      "source": [
        "#Daniel Lucas de Oliveira Gonzaga"
      ]
    },
    {
      "cell_type": "code",
      "source": [
        "# 1) Uma bola é lançada ao ar. Suponha que sua altura h(t), em metros, t segundos após o lançamento, seja: h(t)=-t²+4t\n",
        "\n",
        "import matplotlib.pyplot as plt                                                  #importa a biblioteca matplotlib para plotagem dos gráficos\n",
        "import numpy as np                                                               #importa a biblioteca numpy para as operações matemáticas\n",
        "\n",
        "#a) Faça o gráfico da altura em função do tempo. Não se esqueça de indicar o significado de cada eixo, colocando a unidade da altura e do tempo.\n",
        "\n",
        "t = np.arange(0, 5.1, 0.1)                                                       #Delimita as variáveis da função sendo de 0 a 5.1, com um espaçamento de 0.1 unidades\n",
        "\n",
        "h = (-(t**2)+(4*t))                                                              #Calcula a função fornecida pelo exercício\n",
        "\n",
        "plt.figure()                                                                     #Plota a figura aonde será implementado o gráfico\n",
        "plt.plot(t, h)                                                                   #Plota o gráfico\n",
        "plt.xlabel('tempo (s)')                                                          #Nomeia o eixo X\n",
        "plt.ylabel('altura (m)')                                                         #Nomeia o eixo Y\n",
        "plt.title('Grafico 01')                                                          #Adiciona um título ao gráfico\n",
        "plt.show()                                                                       #Permite mostrar o grafico plotado ao executar o programa"
      ],
      "metadata": {
        "colab": {
          "base_uri": "https://localhost:8080/",
          "height": 295
        },
        "id": "tV6axmTOuOC9",
        "outputId": "81796bf1-6ea9-4cdc-c15b-1d76d436f671"
      },
      "execution_count": 10,
      "outputs": [
        {
          "output_type": "display_data",
          "data": {
            "text/plain": [
              "<Figure size 432x288 with 1 Axes>"
            ],
            "image/png": "[encoded data removed]"
          },
          "metadata": {
            "needs_background": "light"
          }
        }
      ]
    },
    {
      "cell_type": "code",
      "source": [
        "#b) Calcule a altura máxima atingida pela bola.\n",
        "\n",
        "delta = (4**2)                                                                   #Calcula o valor de delta\n",
        "Yv = -delta/(4*-1)                                                               #Calcula o valor do ponto maximo da parabola em Y\n",
        "Xv = -(4/(2*-1))                                                                 #Calcula o valor do ponto maximo da parabola em X\n",
        "\n",
        "print(f'A altura máxima alcaçada é de: {Yv} m')                                  #exibe o texto e o ponto maximo em y ao rodar o programa\n",
        "print(f'o tempo onde a altura máxima é alcaçada é de: {Xv} s')                   #exibe o texto e o ponto maximo em x ao rodar o programa\n",
        "\n"
      ],
      "metadata": {
        "colab": {
          "base_uri": "https://localhost:8080/"
        },
        "id": "wGzUVQtTJXjz",
        "outputId": "ef2aca32-ddc5-4bbc-ee82-e69540790a7c"
      },
      "execution_count": 15,
      "outputs": [
        {
          "output_type": "stream",
          "name": "stdout",
          "text": [
            "A altura máxima alcaçada é de: 4.0 m\n",
            "o tempo onde a altura máxima é alcaçada é de: 2.0 s\n"
          ]
        }
      ]
    }
  ]
}