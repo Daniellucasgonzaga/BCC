{
  "nbformat": 4,
  "nbformat_minor": 0,
  "metadata": {
    "colab": {
      "provenance": [],
      "authorship_tag": "ABX9TyPAnMJbrkilFWGwl7J08XKn",
      "include_colab_link": true
    },
    "kernelspec": {
      "name": "python3",
      "display_name": "Python 3"
    },
    "language_info": {
      "name": "python"
    }
  },
  "cells": [
    {
      "cell_type": "markdown",
      "metadata": {
        "id": "view-in-github",
        "colab_type": "text"
      },
      "source": [
        "<a href=\"https://colab.research.google.com/github/Daniellucasgonzaga/BCC19-DanielGonzaga/blob/main/Tarefa13DanielGonzaga.ipynb\" target=\"_parent\"><img src=\"https://colab.research.google.com/assets/colab-badge.svg\" alt=\"Open In Colab\"/></a>"
      ]
    },
    {
      "cell_type": "markdown",
      "source": [
        "Daniel Lucas de Oliveira Gonzaga"
      ],
      "metadata": {
        "id": "Tma_az4xrSZT"
      }
    },
    {
      "cell_type": "markdown",
      "source": [
        "**1)** Para este item você deverá usar o arquivo [com todos os resultados do campeonato Brasileiro de futebol de 2018 (tabelaBrasileirao2018.csv encontrado na pasta aula7/dados)](dados/tabelaBrasileirao2018.csv) (dados obtidos [desta](<https://pt.wikipedia.org/wiki/Resultados_do_Campeonato_Brasileiro_de_Futebol_de_2018_-_S%C3%A9rie_A_(primeiro_turno)>) e [desta](<https://pt.wikipedia.org/wiki/Resultados_do_Campeonato_Brasileiro_de_Futebol_de_2018_-_S%C3%A9rie_A_(segundo_turno)>) página da Wikipedia).\n",
        "\n",
        "\n",
        "- Escolha um time e faça o histograma da distribuição do público nos jogos em que este time foi o mandante.\n",
        "\n",
        "- Calcule qual foi o público médio nos jogos em que o time escolhido foi o mandante."
      ],
      "metadata": {
        "id": "ClkQpvcyrXJE"
      }
    },
    {
      "cell_type": "code",
      "execution_count": 32,
      "metadata": {
        "colab": {
          "base_uri": "https://localhost:8080/",
          "height": 295
        },
        "id": "n_atlQT1rOMs",
        "outputId": "80c1e5df-0098-4fc8-b456-4ab658b33ddf"
      },
      "outputs": [
        {
          "output_type": "display_data",
          "data": {
            "text/plain": [
              "<Figure size 432x288 with 1 Axes>"
            ],
            "image/png": "[encoded data removed]"
          },
          "metadata": {
            "needs_background": "light"
          }
        }
      ],
      "source": [
        "import pandas as pd\n",
        "import matplotlib.pyplot as plt\n",
        "\n",
        "tabela = pd.read_csv('https://raw.githubusercontent.com/Daniellucasgonzaga/BasesComputacionais/master/dados/tabelaBrasileirao2018.csv')\n",
        "# cria uma nova tabela com o corinthians como mandante\n",
        "cr = tabela.query(\"Mandante == 'Corinthians'\")\n",
        "# cria um histograma da coluna público, com 30 barras e borda preta\n",
        "cr.hist(column = 'Público', bins = 30, edgecolor='black')\n",
        "plt.title('Público Corinthians mandante') # edita título\n",
        "plt.xlabel('Público') # título no eixo x\n",
        "plt.ylabel('Frequência absoluta') # título no eixo y\n",
        "plt.show()"
      ]
    },
    {
      "cell_type": "code",
      "source": [
        "media = cr['Público'].mean() # calcula a média de público\n",
        "print(f\"O público médio quando o Corinthians foi o mandante foi de: {round(media,3)} pessoas\")"
      ],
      "metadata": {
        "colab": {
          "base_uri": "https://localhost:8080/"
        },
        "id": "KPLkJLBvuKcy",
        "outputId": "e096e471-b859-4893-95ba-147f3471a3f5"
      },
      "execution_count": 33,
      "outputs": [
        {
          "output_type": "stream",
          "name": "stdout",
          "text": [
            "O público médio quando o Corinthians foi o mandante foi de: 31367.421 pessoas\n"
          ]
        }
      ]
    }
  ]
}