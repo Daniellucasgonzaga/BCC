{
  "nbformat": 4,
  "nbformat_minor": 0,
  "metadata": {
    "colab": {
      "provenance": [],
      "authorship_tag": "ABX9TyN2sQ4LwOHeZ5KJ1DY3u2TX",
      "include_colab_link": true
    },
    "kernelspec": {
      "name": "python3",
      "display_name": "Python 3"
    },
    "language_info": {
      "name": "python"
    }
  },
  "cells": [
    {
      "cell_type": "markdown",
      "metadata": {
        "id": "view-in-github",
        "colab_type": "text"
      },
      "source": [
        "<a href=\"https://colab.research.google.com/github/Daniellucasgonzaga/BCC19-DanielGonzaga/blob/main/Tarefa18DanielGonzaga.ipynb\" target=\"_parent\"><img src=\"https://colab.research.google.com/assets/colab-badge.svg\" alt=\"Open In Colab\"/></a>"
      ]
    },
    {
      "cell_type": "markdown",
      "source": [
        "Daniel Lucas de Oliveira Gonzaga"
      ],
      "metadata": {
        "id": "GM6OMy7d-9JH"
      }
    },
    {
      "cell_type": "code",
      "source": [
        "!pip install numpy --upgrade\n",
        "\n"
      ],
      "metadata": {
        "colab": {
          "base_uri": "https://localhost:8080/"
        },
        "id": "h0IXXvWoXY5U",
        "outputId": "2f7861f9-ca33-4839-f2f4-85c4b1071d00"
      },
      "execution_count": 12,
      "outputs": [
        {
          "output_type": "stream",
          "name": "stdout",
          "text": [
            "\n",
            "Usage:   \n",
            "  pip3 install [options] <requirement specifier> [package-index-options] ...\n",
            "  pip3 install [options] -r <requirements file> [package-index-options] ...\n",
            "  pip3 install [options] [-e] <vcs project url> ...\n",
            "  pip3 install [options] [-e] <local project path> ...\n",
            "  pip3 install [options] <archive url/path> ...\n",
            "\n",
            "no such option: --Upgrade\n"
          ]
        }
      ]
    },
    {
      "cell_type": "markdown",
      "source": [
        "**1**) Para essa tarefa você deverá usar o [arquivo com vários dados pessoais de sujeitos que participaram de um experimento](../dados/BDSinfo.csv).\n",
        "\n",
        "Faça o gráfico de dispersão do tamanho do pé (FootLen) em função da altura da pessoa (Height). Calcule (e mostre na tela) a correlação e plote a reta de regressão entre esses dados.\n",
        "\n",
        "Dica: esse arquivo separa as suas colunas com uma tabulação. Para ler o arquivo a opção 'sep' deve ser '\\t'."
      ],
      "metadata": {
        "id": "VOAXfd0p_AfT"
      }
    },
    {
      "cell_type": "code",
      "source": [
        "import pandas as pd\n",
        "import numpy as np\n",
        "import matplotlib.pyplot as plt\n",
        "\n",
        "df1 = pd.read_csv('https://raw.githubusercontent.com/Daniellucasgonzaga/BasesComputacionais/master/dados/BDSinfo.csv', sep='\\t')\n",
        "\n",
        "cor = df1['Height'].corr(df1['FootLen'])                                        # calcula a correlação\n",
        "print(f'A correlação entre o tamanho do pé e a altura é de {cor}')              # mostra o valor da correlação na tela\n",
        "\n",
        "# calculo dos coeficientes da reta de regressão\n",
        "mediaX = np.mean(df1['FootLen'])\n",
        "mediaY = np.mean(df1['Height'])\n",
        "desvioX = df1['FootLen'] - mediaX\n",
        "desvioY = df1['Height'] - mediaY\n",
        "m = np.sum(desvioX*desvioY)/np.sum(desvioX**2)\n",
        "b = mediaY - m*mediaX\n",
        "\n",
        "plt.figure()\n",
        "plt.plot(df1['FootLen'], df1['Height'],                                         # plota o grafico de dispersão\n",
        "         marker='o', color='red', linestyle='')\n",
        "plt.plot(df1['FootLen'], m*(df1['FootLen'])+b, linestyle = '-', color = 'blue') # plota a reta de regressão\n",
        "plt.xlabel('Tamanho do pé (cm)')                                                # nomeia eixo x\n",
        "plt.ylabel('altura (cm)')                                                       # nomeia eixo y\n",
        "plt.show()"
      ],
      "metadata": {
        "colab": {
          "base_uri": "https://localhost:8080/",
          "height": 298
        },
        "id": "oy_og1D1RdBx",
        "outputId": "75b41429-76cf-45eb-bb8b-46ee24dff219"
      },
      "execution_count": 4,
      "outputs": [
        {
          "output_type": "stream",
          "name": "stdout",
          "text": [
            "A correlação entre o tamanho do pé e a altura é de 0.7804768664554964\n"
          ]
        },
        {
          "output_type": "display_data",
          "data": {
            "text/plain": [
              "<Figure size 432x288 with 1 Axes>"
            ],
            "image/png": "[encoded data removed]"
          },
          "metadata": {
            "needs_background": "light"
          }
        }
      ]
    },
    {
      "cell_type": "markdown",
      "source": [
        " **2)** Para essa tarefa você deverá usar os arquivos com a [inflação anual](../dados/inflaAnual.csv) e com o [crescimento do PIB anual](../dados/pibAnual.csv).\n",
        "\n",
        "Faça o gráfico de dispersão entre o crescimento do PIB e a inflação anual de 1961 a 2018. Calcule e mostre na tela a correlação entre as duas grandezas."
      ],
      "metadata": {
        "id": "ZjfjaWUV_hnc"
      }
    },
    {
      "cell_type": "code",
      "source": [
        "import pandas as pd\n",
        "import numpy as np\n",
        "import matplotlib.pyplot as plt\n",
        "\n",
        "df2 = pd.read_csv('https://raw.githubusercontent.com/Daniellucasgonzaga/BasesComputacionais/master/dados/inflaAnual.csv')\n",
        "df3 = pd.read_csv('https://raw.githubusercontent.com/Daniellucasgonzaga/BasesComputacionais/master/dados/pibAnual.csv')\n",
        "\n",
        "inf = df2.query(\"Ano >= 1961\")                                            # mostra somente os dados de 1961 até 2018\n",
        "\n",
        "me = pd.merge(inf, df3, how = 'inner', on = 'Ano')                        # forma tabela com a intersecção das outras duas\n",
        "\n",
        "cor1 = me['Inflação'].corr(me['Variação anual do PIB real (%)'])          # calcula a correlação\n",
        "print(f'A correlação entre o PIB e a Inflação anual é de {cor1}')\n",
        "\n",
        "p1 = np.polyfit(m['Inflação'], m['Variação anual do PIB real (%)'],deg=2) # calcula os coeficientes da reta de regressão\n",
        "\n",
        "plt.figure()\n",
        "plt.plot(me['Inflação'], me['Variação anual do PIB real (%)'],            # define x e y do grafico\n",
        "         marker='o', color='red', linestyle='')                           # altera estilo do grafico\n",
        "plt.plot(me['Inflação'].sort_values(),                                    # plota a reta de regressão\n",
        "         np.polyval(p1, me['Inflação'].sort_values()), \n",
        "         marker='', color='blue', linestyle='-')\n",
        "plt.xlabel('Inflação anual')                                              # nomeia eixo x\n",
        "plt.ylabel('PIB anual')                                                   # nomeia eixo y\n",
        "plt.show()"
      ],
      "metadata": {
        "colab": {
          "base_uri": "https://localhost:8080/",
          "height": 297
        },
        "id": "OOvXvP0Q_lX-",
        "outputId": "ef961188-cdb5-4114-d01a-16cc65197acf"
      },
      "execution_count": 14,
      "outputs": [
        {
          "output_type": "stream",
          "name": "stdout",
          "text": [
            "A correlação entre o PIB e a Inflação anual é de -0.15857193894699984\n"
          ]
        },
        {
          "output_type": "display_data",
          "data": {
            "text/plain": [
              "<Figure size 432x288 with 1 Axes>"
            ],
            "image/png": "[encoded data removed]"
          },
          "metadata": {
            "needs_background": "light"
          }
        }
      ]
    },
    {
      "cell_type": "markdown",
      "source": [
        "**3)**  Para essa tarefa você deverá usar o [arquivo com vários dados pessoais de sujeitos que participaram de um experimento](../dados/BDSinfo.csv).\n",
        "\n",
        "Faça o gráfico de dispersão do número de medicamentos que a pessoa toma (Nmedication) em função da idade da pessoa (Age). Calcule (e mostre na tela) a correlação e plote a reta de regressão entre esses dados.\n",
        "\n",
        "Dica: esse arquivo separa as suas colunas com uma tabulação. Para ler o arquivo a opção 'sep' deve ser '\\t'."
      ],
      "metadata": {
        "id": "0vFDnz2P_pgV"
      }
    },
    {
      "cell_type": "code",
      "source": [
        "import pandas as pd\n",
        "import numpy as np\n",
        "import matplotlib.pyplot as plt\n",
        "\n",
        "df1 = pd.read_csv('https://raw.githubusercontent.com/Daniellucasgonzaga/BasesComputacionais/master/dados/BDSinfo.csv', sep='\\t')\n",
        "\n",
        "cor2 = df1['Age'].corr(df1['Nmedication'])           # calcula a correlação dos dois parametros\n",
        "print(f'A correlação entre o numero de medicamentos que a pessoa toa e a sua idade é de {cor2}')\n",
        "\n",
        "p = np.polyfit(df1['Age'], df1['Nmedication'],deg=3) # calcula os coeficientes da reta de regressão\n",
        "\n",
        "plt.figure()\n",
        "plt.plot(df1['Age'], df1['Nmedication'],         # define x e y do grafico\n",
        "         marker='o', color='red', linestyle='')  # altera estilo do grafico\n",
        "plt.plot(df1['Age'].sort_values(),               # plota a reta de regressão\n",
        "         np.polyval(p, df1['Age'].sort_values()), \n",
        "         marker='', color='blue', linestyle='-')\n",
        "plt.xlabel('Idade (anos)')                       # nomeia eixo x\n",
        "plt.ylabel('nº de medicamentos')                 # nomeia eixo y\n",
        "plt.show()"
      ],
      "metadata": {
        "colab": {
          "base_uri": "https://localhost:8080/",
          "height": 297
        },
        "id": "aNBSdujY_qVW",
        "outputId": "ec7cf391-2d20-4302-c382-7acd7970c5bf"
      },
      "execution_count": 18,
      "outputs": [
        {
          "output_type": "stream",
          "name": "stdout",
          "text": [
            "A correlação entre o numero de medicamentos que a pessoa toa e a sua idade é de 0.5900959291995561\n"
          ]
        },
        {
          "output_type": "display_data",
          "data": {
            "text/plain": [
              "<Figure size 432x288 with 1 Axes>"
            ],
            "image/png": "[encoded data removed]"
          },
          "metadata": {
            "needs_background": "light"
          }
        }
      ]
    }
  ]
}