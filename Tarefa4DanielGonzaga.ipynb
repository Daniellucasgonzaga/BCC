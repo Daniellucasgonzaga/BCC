{
  "nbformat": 4,
  "nbformat_minor": 0,
  "metadata": {
    "colab": {
      "provenance": [],
      "authorship_tag": "ABX9TyMR95j3KxW2vCJ7RcAe7uX3",
      "include_colab_link": true
    },
    "kernelspec": {
      "name": "python3",
      "display_name": "Python 3"
    },
    "language_info": {
      "name": "python"
    }
  },
  "cells": [
    {
      "cell_type": "markdown",
      "metadata": {
        "id": "view-in-github",
        "colab_type": "text"
      },
      "source": [
        "<a href=\"https://colab.research.google.com/github/Daniellucasgonzaga/BCC/blob/main/Tarefa4DanielGonzaga.ipynb\" target=\"_parent\"><img src=\"https://colab.research.google.com/assets/colab-badge.svg\" alt=\"Open In Colab\"/></a>"
      ]
    },
    {
      "cell_type": "code",
      "execution_count": null,
      "metadata": {
        "id": "IOz_fkPSWoY5"
      },
      "outputs": [],
      "source": [
        "# Aluno: Daniel Lucas de Oliveira Gonzaga"
      ]
    },
    {
      "cell_type": "code",
      "source": [
        "# 1 - O volume de uma esfera com raio contida em uma variável R.\n",
        "\n",
        "import math #importa biblioteca para podermos resgatar o valor de pi\n",
        "\n",
        "pi = math.pi #atribui a 'pi' o seu valor (3,14...)\n",
        "R1 = 0.32    #atribui o valor pedido na letra a do exercicio\n",
        "R2 = 1       #atribui o valor pedido na letra b do exercicio\n",
        "R3 = 1.9     #atribui o valor pedido na letra c do exercicio\n",
        "x = 4/3      #atribui a 'x' um valor que será usado na equação\n",
        "\n",
        "# Montando a equação conforme as variáveis solicitadas em cada item\n",
        "V1 = x*(R1**3)*pi \n",
        "V2 = x*(R2**3)*pi\n",
        "V3 = x*(R3**3)*pi\n",
        "\n",
        "# Exibe na tela o valor das equações com 3 casas decimais\n",
        "print(f'a) {V1:.3f} m³')\n",
        "print(f'b) {V2:.3f} m³')\n",
        "print(f'c) {V3:.3f} m³')"
      ],
      "metadata": {
        "colab": {
          "base_uri": "https://localhost:8080/"
        },
        "id": "ErBNguovWtDg",
        "outputId": "7e736608-65f1-4816-c19a-79a18dda2f44"
      },
      "execution_count": 3,
      "outputs": [
        {
          "output_type": "stream",
          "name": "stdout",
          "text": [
            "a) 0.137 m³\n",
            "b) 4.189 m³\n",
            "c) 28.731 m³\n"
          ]
        }
      ]
    },
    {
      "cell_type": "code",
      "source": [
        "# 2 - Temperatura em Fahrenheit dada a temperatura em Celsius contida em uma variavel Tc\n",
        "\n",
        "# Atribuição das variáveis em graus celcius\n",
        "Tc1 = -10\n",
        "Tc2 = 30\n",
        "Tc3 = 5\n",
        "\n",
        "# Atribuição das variáveis em farenheit pela fórmula \n",
        "Tf1 = 1.8*Tc1 + 32\n",
        "Tf2 = 1.8*Tc2 + 32\n",
        "Tf3 = 1.8*Tc3 + 32\n",
        "\n",
        "# Exibição dos valores, em farenheit, com 2 casas decimais\n",
        "print(f'a) {Tf1:.3f} F')\n",
        "print(f'b) {Tf2:.3f} F')\n",
        "print(f'c) {Tf3:.3f} F')"
      ],
      "metadata": {
        "colab": {
          "base_uri": "https://localhost:8080/"
        },
        "id": "3kc1N9TLY_1h",
        "outputId": "2120722d-f030-4efd-f740-83b65f3cb4c9"
      },
      "execution_count": 9,
      "outputs": [
        {
          "output_type": "stream",
          "name": "stdout",
          "text": [
            "a) 14.000 F\n",
            "b) 86.000 F\n",
            "c) 41.000 F\n"
          ]
        }
      ]
    },
    {
      "cell_type": "code",
      "source": [
        "# 3 - O tamanho do lado c de um triângulo com lados a,b e ângulo θ entre os lados a e b conhecidos. a, b e θ devem estar gravadas em variáveis.\n",
        "import numpy as np #importa biblioteca de funções matemáticas\n",
        "\n",
        "# atribuição das variáveis solicitadas pelo exercício\n",
        "a1 = 1\n",
        "a2 = 3\n",
        "a3 = 10\n",
        "b1 = 2\n",
        "b2 = 1\n",
        "b3 = 11\n",
        "θ1 = 30\n",
        "θ2 = 45\n",
        "θ3 = 15\n",
        "\n",
        "# tranformação do angulo em graus para radianos \n",
        "θ1r = np.radians(θ1)\n",
        "θ2r = np.radians(θ2)\n",
        "θ3r = np.radians(θ3)\n",
        "\n",
        "# calculo do cosseno dos angulos em radianos\n",
        "cosθ1 = np.cos(θ1r) \n",
        "cosθ2 = np.cos(θ1r) \n",
        "cosθ3 = np.cos(θ2r) \n",
        "\n",
        "# aplicação da fórmula para cada variável solicitada no exercicio\n",
        "c1 = np.sqrt(((a1**2)+(b1**2)-(2*a1*b1*cosθ1)))\n",
        "c2 = np.sqrt(((a2**2)+(b2**2)-(2*a2*b2*cosθ2)))\n",
        "c3 = np.sqrt(((a3**2)+(b3**2)-(2*a3*b3*cosθ3)))\n",
        "\n",
        "# exibição dos resultados dos calculos, com 3 casas decimais\n",
        "print(f'a){c1:.3f}')\n",
        "print(f'b){c2:.3f}')\n",
        "print(f'c){c3:.3f}')"
      ],
      "metadata": {
        "colab": {
          "base_uri": "https://localhost:8080/"
        },
        "id": "_R-CFrRZbzKp",
        "outputId": "5a9109ca-beac-4aec-c1bc-b46f57ae4cb9"
      },
      "execution_count": 7,
      "outputs": [
        {
          "output_type": "stream",
          "name": "stdout",
          "text": [
            "a)1.239\n",
            "b)2.192\n",
            "c)8.089\n"
          ]
        }
      ]
    },
    {
      "cell_type": "code",
      "source": [
        "# 4 - série de Fibonacci \n",
        "import numpy as np #importa biblioteca de funções matemáticas\n",
        "\n",
        "#atribui valor as variáveis conforme solicitado no exercício\n",
        "i1 = 30\n",
        "i2 = 31\n",
        "i3 = 32\n",
        "r = np.sqrt(5) # atribui a r o valor de raiz de 5\n",
        "\n",
        "# calculo do numerador da expressão, para facilitar a escrita da formula final\n",
        "x1 = (1+r)/2\n",
        "x2 = (1-r)/2\n",
        "\n",
        "# calculo da sequencia de fibonacci para os i solicitados no exercício\n",
        "Fi1 = np.floor(((x1**i1)-(x2**i1)/r))\n",
        "Fi2 = np.floor(((x1**i2)-(x2**i2)/r))\n",
        "Fi3 = np.floor(((x1**i3)-(x2**i3)/r))\n",
        "\n",
        "# imprime na tela o resultado dos calculos\n",
        "print(f'a){Fi1}')\n",
        "print(f'b){Fi2}')\n",
        "print(f'c){Fi3}')"
      ],
      "metadata": {
        "colab": {
          "base_uri": "https://localhost:8080/"
        },
        "id": "eqFwEEcdk8XG",
        "outputId": "1d53dd7e-ac0c-4ad0-eb9b-029ccb51e050"
      },
      "execution_count": 10,
      "outputs": [
        {
          "output_type": "stream",
          "name": "stdout",
          "text": [
            "a)1860497.0\n",
            "b)3010349.0\n",
            "c)4870846.0\n"
          ]
        }
      ]
    }
  ]
}